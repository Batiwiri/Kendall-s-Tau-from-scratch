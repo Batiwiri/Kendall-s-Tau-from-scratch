{
 "cells": [
  {
   "cell_type": "code",
   "execution_count": 1,
   "id": "3d1d2582-c874-471d-a2c9-0a2d8a7735c2",
   "metadata": {},
   "outputs": [],
   "source": [
    "import numpy as np\n",
    "\n",
    "def Cholesky_Decomposition(A):\n",
    "    \"\"\"\n",
    "    This function performs the Cholesky decomposition on a positive definite matrix A.\n",
    "    It returns the lower triangular matrix L such that L * L.T = A.\n",
    "    \"\"\"\n",
    "    n = A.shape[0]  # Get the dimension of A\n",
    "    L = np.zeros((n, n))  # Initialize L as a zero matrix of size n x n\n",
    "    \n",
    "    for i in range(n):\n",
    "        for j in range(i + 1):  # ensure L is lower triangular\n",
    "            sum = 0\n",
    "            if j == i:  # Diagonal elements\n",
    "                for k in range(j):\n",
    "                    sum += L[j, k] ** 2\n",
    "                L[j, j] = np.sqrt(A[j, j] - sum)\n",
    "            else:  # Off-diagonal elements\n",
    "                for k in range(j):\n",
    "                    sum += L[i, k] * L[j, k]\n",
    "                L[i, j] = (A[i, j] - sum) / L[j, j]\n",
    "    \n",
    "    return L\n",
    "\n",
    "\n"
   ]
  },
  {
   "cell_type": "code",
   "execution_count": 2,
   "id": "32a841bf-3897-4ded-8608-3f46139b5fe2",
   "metadata": {},
   "outputs": [
    {
     "name": "stdout",
     "output_type": "stream",
     "text": [
      "[[ 3.94 -1.68]\n",
      " [-1.68  4.46]]\n"
     ]
    }
   ],
   "source": [
    "I=np.eye(2)\n",
    "E=np.array([[1.2,-1.4]])\n",
    "N=np.dot(E.T,E)\n",
    "L=2.5\n",
    "A=N+L*I\n",
    "print(A)"
   ]
  },
  {
   "cell_type": "code",
   "execution_count": 3,
   "id": "9e174834-69b3-486a-a2eb-ff20dc4d2705",
   "metadata": {},
   "outputs": [
    {
     "name": "stdout",
     "output_type": "stream",
     "text": [
      "[[ 1.98494332  0.        ]\n",
      " [-0.84637177  1.93485266]]\n"
     ]
    }
   ],
   "source": [
    "H=Cholesky_Decomposition(A)\n",
    "print(H)"
   ]
  },
  {
   "cell_type": "code",
   "execution_count": 4,
   "id": "d20057f1-da63-41d3-8922-25afd7af134b",
   "metadata": {},
   "outputs": [
    {
     "name": "stdout",
     "output_type": "stream",
     "text": [
      "verification [[ 3.94 -1.68]\n",
      " [-1.68  4.46]]\n"
     ]
    }
   ],
   "source": [
    "Ver=np.dot(H,H.T)\n",
    "print(f\"verification {Ver}\")"
   ]
  },
  {
   "cell_type": "code",
   "execution_count": null,
   "id": "9fc3979c-b374-4725-b671-c38a6fe1db2a",
   "metadata": {},
   "outputs": [],
   "source": []
  }
 ],
 "metadata": {
  "kernelspec": {
   "display_name": "Python 3 (ipykernel)",
   "language": "python",
   "name": "python3"
  },
  "language_info": {
   "codemirror_mode": {
    "name": "ipython",
    "version": 3
   },
   "file_extension": ".py",
   "mimetype": "text/x-python",
   "name": "python",
   "nbconvert_exporter": "python",
   "pygments_lexer": "ipython3",
   "version": "3.12.4"
  }
 },
 "nbformat": 4,
 "nbformat_minor": 5
}
